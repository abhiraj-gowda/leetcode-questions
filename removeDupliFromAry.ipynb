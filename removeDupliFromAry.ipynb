{
 "cells": [
  {
   "cell_type": "code",
   "execution_count": 20,
   "metadata": {},
   "outputs": [],
   "source": [
    "def remove(l):\n",
    "    new=[]\n",
    "    for i in l:\n",
    "        if i not in  new:\n",
    "            new.append(i)\n",
    "    return len(new)"
   ]
  },
  {
   "cell_type": "code",
   "execution_count": 27,
   "metadata": {},
   "outputs": [
    {
     "data": {
      "text/plain": [
       "3"
      ]
     },
     "execution_count": 27,
     "metadata": {},
     "output_type": "execute_result"
    }
   ],
   "source": [
    "remove([1,1,2])\n",
    "l=[1,2,3,1,1]\n",
    "# len(l)\n",
    "# list(set(l))\n",
    "    # return [x for i, x in enumerate(l) if i == l.index(x) or \n",
    "# this removes duplicates in list an' writes list with no dupli's 😅😁╰(*°▽°*)╯\n",
    "def removee(l):\n",
    "    new=list(set(l))\n",
    "    return len(new)\n",
    "l=[1,2,3,1,1]\n",
    "removee(l)\n"
   ]
  },
  {
   "cell_type": "code",
   "execution_count": 22,
   "metadata": {},
   "outputs": [
    {
     "data": {
      "text/plain": [
       "3"
      ]
     },
     "execution_count": 22,
     "metadata": {},
     "output_type": "execute_result"
    }
   ],
   "source": [
    "# i'm not getting this 👇 an' this's from letcode solution.....(got it after a thorough learning(❁´◡`❁))\n",
    "def removeDuplicates( nums) :\n",
    "    j = 1\n",
    "    for i in range(1, len(nums)):\n",
    "        if nums[i] != nums[i - 1]:\n",
    "            nums[j] = nums[i]\n",
    "            j += 1\n",
    "    return j\n",
    "removeDuplicates([1,1,2,3])"
   ]
  }
 ],
 "metadata": {
  "kernelspec": {
   "display_name": "Python 3",
   "language": "python",
   "name": "python3"
  },
  "language_info": {
   "codemirror_mode": {
    "name": "ipython",
    "version": 3
   },
   "file_extension": ".py",
   "mimetype": "text/x-python",
   "name": "python",
   "nbconvert_exporter": "python",
   "pygments_lexer": "ipython3",
   "version": "3.11.5"
  }
 },
 "nbformat": 4,
 "nbformat_minor": 2
}
