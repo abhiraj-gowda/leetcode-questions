{
 "cells": [
  {
   "cell_type": "markdown",
   "metadata": {},
   "source": [
    "leet code question no.234\n",
    "\n",
    "234. Palindrome Linked List\n",
    "\n",
    "Given the head of a singly linked list, return true if it is a \n",
    "palindrome or false otherwise.\n",
    "\n",
    "Example:\n",
    "\n",
    "Input: head = [1,2,2,1]\n",
    "Output: true\n",
    "Example 2:\n",
    "\n",
    "Input: head = [1,2]\n",
    "Output: false"
   ]
  },
  {
   "cell_type": "code",
   "execution_count": 42,
   "metadata": {},
   "outputs": [],
   "source": [
    "class Node:\n",
    "    def __init__(self,value):\n",
    "        self.data=value\n",
    "        self.next =None\n",
    "\n",
    "class Stack:\n",
    "    def __init__(self):\n",
    "        self.head=None\n",
    "        self.n=0\n",
    "    def __str__(self):\n",
    "        if self.n==0:\n",
    "            return \"Stack is empty\"\n",
    "        result=''\n",
    "        current=self.head\n",
    "        while current != None:\n",
    "            result += str(current.data) + '->'\n",
    "            current=current.next\n",
    "        return result[:-2] \n",
    "    def push(self,value):\n",
    "        new_node=Node(value)\n",
    "        if self.n==0:\n",
    "            self.head=new_node\n",
    "            self.n+=1\n",
    "            return\n",
    "        new_node.next=self.head\n",
    "        self.head=new_node\n",
    "        self.n+=1\n",
    "    def pop(self):\n",
    "        if self.n==0:\n",
    "            return 'stack is empty'\n",
    "        po=self.head.data\n",
    "        self.head=self.head.next\n",
    "        self.n-=1\n",
    "        return po\n",
    "    def size(self):\n",
    "        return self.n\n",
    "    def is_empty(self):\n",
    "        if self.n==0:\n",
    "            return True\n",
    "        else:\n",
    "            return False \n",
    "        \n"
   ]
  },
  {
   "cell_type": "code",
   "execution_count": 43,
   "metadata": {},
   "outputs": [],
   "source": [
    "def palin(LL):\n",
    "    if LL.is_empty():\n",
    "        return 'stack is empty'\n",
    "    string=''\n",
    "    current=LL.head\n",
    "    while current:\n",
    "        string+=str(current.data)\n",
    "        current=current.next\n",
    "    if  string==string[::-1]:\n",
    "        return True\n",
    "    else:\n",
    "        return False\n",
    "\n",
    "    "
   ]
  },
  {
   "cell_type": "code",
   "execution_count": 44,
   "metadata": {},
   "outputs": [
    {
     "name": "stdout",
     "output_type": "stream",
     "text": [
      "a->b->a\n"
     ]
    },
    {
     "data": {
      "text/plain": [
       "True"
      ]
     },
     "execution_count": 44,
     "metadata": {},
     "output_type": "execute_result"
    }
   ],
   "source": [
    "a=Stack()\n",
    "a.push('a')\n",
    "a.push('b')\n",
    "a.push('a')\n",
    "print(a)\n",
    "palin(a)\n"
   ]
  }
 ],
 "metadata": {
  "kernelspec": {
   "display_name": "Python 3",
   "language": "python",
   "name": "python3"
  },
  "language_info": {
   "codemirror_mode": {
    "name": "ipython",
    "version": 3
   },
   "file_extension": ".py",
   "mimetype": "text/x-python",
   "name": "python",
   "nbconvert_exporter": "python",
   "pygments_lexer": "ipython3",
   "version": "3.11.5"
  }
 },
 "nbformat": 4,
 "nbformat_minor": 2
}
