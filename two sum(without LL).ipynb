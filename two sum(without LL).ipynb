{
 "cells": [
  {
   "cell_type": "code",
   "execution_count": 2,
   "metadata": {},
   "outputs": [],
   "source": [
    "class Solution(object):\n",
    "    def addTwoNumbers(self, l1, l2):\n",
    "        l4=l1\n",
    "        l3=l2\n",
    "        l3=int(sum(l3))\n",
    "        l2=int(sum(l2))\n",
    "        print(l3,type(l3))\n",
    "        print(l2,type(l2))\n",
    "        sums=l2+l3\n",
    "        print(str(sums)[::-1])\n",
    "\n",
    "    def sum(l):\n",
    "        global l1\n",
    "        l1=''\n",
    "        for i in l:\n",
    "            l1=str(i)+''+l1\n",
    "        return l1 "
   ]
  },
  {
   "cell_type": "code",
   "execution_count": 3,
   "metadata": {},
   "outputs": [],
   "source": [
    "a=Solution()\n",
    "b=Solution()\n"
   ]
  }
 ],
 "metadata": {
  "kernelspec": {
   "display_name": "Python 3",
   "language": "python",
   "name": "python3"
  },
  "language_info": {
   "codemirror_mode": {
    "name": "ipython",
    "version": 3
   },
   "file_extension": ".py",
   "mimetype": "text/x-python",
   "name": "python",
   "nbconvert_exporter": "python",
   "pygments_lexer": "ipython3",
   "version": "3.11.5"
  }
 },
 "nbformat": 4,
 "nbformat_minor": 2
}
