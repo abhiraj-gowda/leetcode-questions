{
 "cells": [
  {
   "cell_type": "code",
   "execution_count": 52,
   "metadata": {},
   "outputs": [],
   "source": [
    "# stack function(linked lists)\n",
    "# Node\n",
    "class Node:\n",
    "    def __init__(self,value):\n",
    "        self.data=value\n",
    "        self.next=None\n",
    "#stack (LL)\n",
    "class Stack:\n",
    "    def __init__(self):\n",
    "        self.head=None\n",
    "        self.n =0\n",
    "        \n",
    "    #print funct\n",
    "    def __str__(self):\n",
    "        if self.n ==0:\n",
    "            return 'stack is empty'\n",
    "        result=''\n",
    "        current=self.head\n",
    "        while current != None:\n",
    "            result=result+'->'+str(current.data)\n",
    "            current=current.next\n",
    "        return result[2:]\n",
    "    \n",
    "    # push funct\n",
    "    def push(self,value):\n",
    "        new_node=Node(value)\n",
    "        if self.n == 0:\n",
    "            self.head=new_node\n",
    "            self.n+=1\n",
    "            return\n",
    "        \n",
    "        new_node.next=self.head\n",
    "        self.head=new_node\n",
    "        self.n+=1\n",
    "    \n",
    "    #pop funct\n",
    "    def pop(self):\n",
    "        if self.n==0:\n",
    "            print(\"stack is empty\")\n",
    "            return\n",
    "        po=self.head.data\n",
    "        self.head=self.head.next\n",
    "        self.n-=1\n",
    "        return po\n",
    "        \n",
    "    #peek funct\n",
    "    def peek(self):\n",
    "        if self.n==0:\n",
    "            print(\"stack is empty\")\n",
    "            return\n",
    "        return self.head.data\n",
    "    \n",
    "    #check whether the stack is empty\n",
    "    def is_empty(self):\n",
    "        if self.n==0:\n",
    "            return True\n",
    "        else:\n",
    "            return False\n",
    "        \n",
    "    # check size\n",
    "    def size(self):\n",
    "        if self.n==0:\n",
    "            print(\"stack is empty\")\n",
    "            return 0\n",
    "        return self.n\n",
    "    \n"
   ]
  },
  {
   "cell_type": "code",
   "execution_count": 53,
   "metadata": {},
   "outputs": [
    {
     "name": "stdout",
     "output_type": "stream",
     "text": [
      "6->5->4->3->2->1\n",
      "5->4->3->2->1\n",
      "5\n",
      "False\n"
     ]
    },
    {
     "data": {
      "text/plain": [
       "5"
      ]
     },
     "execution_count": 53,
     "metadata": {},
     "output_type": "execute_result"
    }
   ],
   "source": [
    "a=Stack()\n",
    "a.push(1)\n",
    "a.push(2)\n",
    "a.push(3)\n",
    "a.push(4)\n",
    "a.push(5)\n",
    "a.push(6)\n",
    "print(a)\n",
    "a.pop()\n",
    "print(a)\n",
    "a.peek()\n",
    "print(a.peek())\n",
    "print(a.is_empty())\n",
    "a.size()"
   ]
  },
  {
   "cell_type": "markdown",
   "metadata": {},
   "source": [
    "20. Valid Parentheses\n",
    "Given a string s containing just the characters '(', ')', '{', '}', '[' and ']', determine if the input string is valid.\n",
    "An input string is valid if:\n",
    "Open brackets must be closed by the same type of brackets.\n",
    "Open brackets must be closed in the correct order.\n",
    "Every close bracket has a corresponding open bracket of the same type.\n",
    "Example 1:\n",
    "Input: s = \"()\"\n",
    "Output: true\n",
    "\n",
    "Example 2:\n",
    "Input: s = \"()[]{}\"\n",
    "Output: true\n",
    "\n",
    "Example 3:\n",
    "Input: s = \"(]\"\n",
    "Output: false\n",
    "\n",
    "Example 4:\n",
    "Input: s = \"([])\"\n",
    "Output: true\n"
   ]
  },
  {
   "cell_type": "code",
   "execution_count": 54,
   "metadata": {},
   "outputs": [],
   "source": [
    "def valid_parantesis(string):\n",
    "    matching_parn={\n",
    "        \")\":\"(\",\n",
    "        '}':'{',\n",
    "        ']':'['\n",
    "    }\n",
    "    stk=Stack()\n",
    "    for char in string:\n",
    "        \n",
    "        if char in '{([':\n",
    "            stk.push(char)\n",
    "        elif char in '})]':\n",
    "            if stk.is_empty() or stk.peek() != matching_parn[char]:\n",
    "                return 'invalid string'\n",
    "            stk.pop()\n",
    "            \n",
    "    if stk.is_empty():\n",
    "        return 'valid string'\n",
    "    else:\n",
    "        return 'invalid string'\n",
    "            "
   ]
  },
  {
   "cell_type": "code",
   "execution_count": 55,
   "metadata": {},
   "outputs": [
    {
     "data": {
      "text/plain": [
       "'valid string'"
      ]
     },
     "execution_count": 55,
     "metadata": {},
     "output_type": "execute_result"
    }
   ],
   "source": [
    "valid_parantesis(\"(({[]}))\")"
   ]
  },
  {
   "cell_type": "code",
   "execution_count": 56,
   "metadata": {},
   "outputs": [],
   "source": [
    "def vv(string):\n",
    "    matchs={\n",
    "        \")\":\"(\",\n",
    "        '}':'{',\n",
    "        ']':'['\n",
    "    }\n",
    "    st=Stack()\n",
    "    for char in string:\n",
    "        if char in '[{(':\n",
    "            st.push(char)\n",
    "        elif char in ')}]':\n",
    "            if st.is_empty() or st.peek() != matchs[char] :\n",
    "                return 'invalid string'\n",
    "            st.pop()\n",
    "    if st.is_empty():\n",
    "        return 'valid string'\n",
    "    else :\n",
    "        return 'invalid string'"
   ]
  },
  {
   "cell_type": "code",
   "execution_count": 57,
   "metadata": {},
   "outputs": [
    {
     "data": {
      "text/plain": [
       "'invalid string'"
      ]
     },
     "execution_count": 57,
     "metadata": {},
     "output_type": "execute_result"
    }
   ],
   "source": [
    "strr='{] }'\n",
    "vv(strr)"
   ]
  }
 ],
 "metadata": {
  "kernelspec": {
   "display_name": "Python 3",
   "language": "python",
   "name": "python3"
  },
  "language_info": {
   "codemirror_mode": {
    "name": "ipython",
    "version": 3
   },
   "file_extension": ".py",
   "mimetype": "text/x-python",
   "name": "python",
   "nbconvert_exporter": "python",
   "pygments_lexer": "ipython3",
   "version": "3.11.5"
  }
 },
 "nbformat": 4,
 "nbformat_minor": 2
}
